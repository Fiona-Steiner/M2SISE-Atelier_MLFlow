{
 "cells": [
  {
   "cell_type": "markdown",
   "id": "fd385f62-501c-45a0-9f00-b49e793331b8",
   "metadata": {},
   "source": [
    "# Prédictions - Production\n",
    "\n",
    "Cet exercice va nous permettre de prédire sur un nouveau jeu de données (cancer119.csv).\n",
    "\n",
    "* À partir d'un modèle enregistré dans le registry model\n",
    "* À partir du modèle.pkl directement"
   ]
  },
  {
   "cell_type": "markdown",
   "id": "94f134cb-f391-4a63-b9a6-019fcaed898b",
   "metadata": {},
   "source": [
    "## Importation des librairies"
   ]
  },
  {
   "cell_type": "code",
   "execution_count": null,
   "id": "0a23c127-1ce7-4540-9216-cb7665fd0e9b",
   "metadata": {},
   "outputs": [],
   "source": [
    "import pickle\n",
    "import pandas as pd\n",
    "import mlflow"
   ]
  },
  {
   "cell_type": "markdown",
   "id": "3c6dbe93-6a6f-41e2-b311-2ec30ab8cc99",
   "metadata": {},
   "source": [
    "## Nouvelles données sur lesquelles prédire\n",
    "\n",
    "Récupérez les données du cancer du sein dans un dataframe cancer119.csv."
   ]
  },
  {
   "cell_type": "code",
   "execution_count": null,
   "id": "3ea08cdf-0be6-4380-a8f6-f2a4ddf71ab2",
   "metadata": {},
   "outputs": [],
   "source": [
    "#**A COMPLETER**"
   ]
  },
  {
   "cell_type": "markdown",
   "id": "76bcdb9a-5c5d-4702-91f5-ea1b84a679f0",
   "metadata": {},
   "source": [
    "## Connexion au serveur MLFlow\n",
    "\n",
    "Connectez-vous au seveur de la même façon que dans l'exercice précédent."
   ]
  },
  {
   "cell_type": "code",
   "execution_count": null,
   "id": "54b3c8e4-0f74-4562-a69c-94a0bd397781",
   "metadata": {},
   "outputs": [],
   "source": [
    "#**A COMPLETER**"
   ]
  },
  {
   "cell_type": "markdown",
   "id": "600ebd3d-f4db-4548-9ba3-37e4608fd0c0",
   "metadata": {},
   "source": [
    "## Prédiction à partir d'un modèle enregistré dans le registry model"
   ]
  },
  {
   "cell_type": "markdown",
   "id": "35d466a5-3015-4824-92cb-f4f99b9c8773",
   "metadata": {},
   "source": [
    "À partir du modèle de votre choix enregistré dans le registry model, affectez son identifiant de run à la variable logged_model : runs:/<run_id>/<registry_model> pour de prédire sur les nouveaux individus."
   ]
  },
  {
   "cell_type": "code",
   "execution_count": null,
   "id": "b909c6b5-84ca-4f48-8a8c-d69b67c07b58",
   "metadata": {},
   "outputs": [],
   "source": [
    "#**A COMPLETER**\n",
    "logged_model = f\"runs:/{run_id}/{registry_model}\""
   ]
  },
  {
   "cell_type": "markdown",
   "id": "44087c71-0819-4dd9-962b-64f52f5727dc",
   "metadata": {},
   "source": [
    "Récupérez le modèle à partir du run (sklearn.load_model) pour prédire sur les nouvelles données.\n",
    "\n",
    "Enfin afficher les prédictions."
   ]
  },
  {
   "cell_type": "code",
   "execution_count": null,
   "id": "532570a2-2955-4696-84a7-d3af6d4a66f5",
   "metadata": {},
   "outputs": [],
   "source": [
    "#**A COMPLETER**\n",
    "\n",
    "pd.DataFrame(predictions).head()"
   ]
  },
  {
   "cell_type": "markdown",
   "id": "367b6aa3-7db5-49ec-8347-064846d0eca7",
   "metadata": {},
   "source": [
    "## Prédiction à partir du model.pkl"
   ]
  },
  {
   "cell_type": "markdown",
   "id": "ced69ff0-4b38-4140-ad68-e904154c4713",
   "metadata": {},
   "source": [
    "Récupérer le fichier model.pkl et chargez-le dans un objet (with open et pickle.load : https://docs.python.org/3/library/pickle.html).\n",
    "\n",
    "Afficher les prédictions."
   ]
  },
  {
   "cell_type": "code",
   "execution_count": null,
   "id": "2b5aa19e-7b6d-4265-9a56-0c9441b049cc",
   "metadata": {},
   "outputs": [],
   "source": [
    "#**A COMPLETER**\n",
    "\n",
    "pd.DataFrame(predictions).head()"
   ]
  }
 ],
 "metadata": {
  "kernelspec": {
   "display_name": "Python 3 (ipykernel)",
   "language": "python",
   "name": "python3"
  },
  "language_info": {
   "codemirror_mode": {
    "name": "ipython",
    "version": 3
   },
   "file_extension": ".py",
   "mimetype": "text/x-python",
   "name": "python",
   "nbconvert_exporter": "python",
   "pygments_lexer": "ipython3",
   "version": "3.11.7"
  }
 },
 "nbformat": 4,
 "nbformat_minor": 5
}
