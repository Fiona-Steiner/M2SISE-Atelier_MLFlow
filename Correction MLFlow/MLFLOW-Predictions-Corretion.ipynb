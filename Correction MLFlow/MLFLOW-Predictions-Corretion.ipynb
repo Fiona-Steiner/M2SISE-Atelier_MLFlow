{
 "cells": [
  {
   "cell_type": "markdown",
   "id": "fd385f62-501c-45a0-9f00-b49e793331b8",
   "metadata": {},
   "source": [
    "# Prédictions - Production\n",
    "\n",
    "Cet exercice va nous permettre de prédire sur un nouveau jeu de données (cancer119.csv).\n",
    "\n",
    "* À partir d'un modèle enregistré dans le registry model\n",
    "* À partir du modèle.pkl directement"
   ]
  },
  {
   "cell_type": "markdown",
   "id": "94f134cb-f391-4a63-b9a6-019fcaed898b",
   "metadata": {},
   "source": [
    "## Importation des librairies"
   ]
  },
  {
   "cell_type": "code",
   "execution_count": 2,
   "id": "0a23c127-1ce7-4540-9216-cb7665fd0e9b",
   "metadata": {},
   "outputs": [],
   "source": [
    "import pickle\n",
    "import pandas as pd\n",
    "import mlflow"
   ]
  },
  {
   "cell_type": "markdown",
   "id": "3c6dbe93-6a6f-41e2-b311-2ec30ab8cc99",
   "metadata": {},
   "source": [
    "## Nouvelles données sur lesquelles prédire\n",
    "\n",
    "Récupérez les données du cancer du sein dans un dataframe cancer119.csv."
   ]
  },
  {
   "cell_type": "code",
   "execution_count": 3,
   "id": "3ea08cdf-0be6-4380-a8f6-f2a4ddf71ab2",
   "metadata": {},
   "outputs": [
    {
     "data": {
      "text/html": [
       "<div>\n",
       "<style scoped>\n",
       "    .dataframe tbody tr th:only-of-type {\n",
       "        vertical-align: middle;\n",
       "    }\n",
       "\n",
       "    .dataframe tbody tr th {\n",
       "        vertical-align: top;\n",
       "    }\n",
       "\n",
       "    .dataframe thead th {\n",
       "        text-align: right;\n",
       "    }\n",
       "</style>\n",
       "<table border=\"1\" class=\"dataframe\">\n",
       "  <thead>\n",
       "    <tr style=\"text-align: right;\">\n",
       "      <th></th>\n",
       "      <th>mean radius</th>\n",
       "      <th>mean texture</th>\n",
       "      <th>mean perimeter</th>\n",
       "      <th>mean area</th>\n",
       "      <th>mean smoothness</th>\n",
       "      <th>mean compactness</th>\n",
       "      <th>mean concavity</th>\n",
       "      <th>mean concave points</th>\n",
       "      <th>mean symmetry</th>\n",
       "      <th>mean fractal dimension</th>\n",
       "      <th>...</th>\n",
       "      <th>worst radius</th>\n",
       "      <th>worst texture</th>\n",
       "      <th>worst perimeter</th>\n",
       "      <th>worst area</th>\n",
       "      <th>worst smoothness</th>\n",
       "      <th>worst compactness</th>\n",
       "      <th>worst concavity</th>\n",
       "      <th>worst concave points</th>\n",
       "      <th>worst symmetry</th>\n",
       "      <th>worst fractal dimension</th>\n",
       "    </tr>\n",
       "  </thead>\n",
       "  <tbody>\n",
       "    <tr>\n",
       "      <th>0</th>\n",
       "      <td>11.87</td>\n",
       "      <td>21.54</td>\n",
       "      <td>76.83</td>\n",
       "      <td>432.0</td>\n",
       "      <td>0.06613</td>\n",
       "      <td>0.10640</td>\n",
       "      <td>0.08777</td>\n",
       "      <td>0.02386</td>\n",
       "      <td>0.1349</td>\n",
       "      <td>0.06612</td>\n",
       "      <td>...</td>\n",
       "      <td>12.79</td>\n",
       "      <td>28.18</td>\n",
       "      <td>83.51</td>\n",
       "      <td>507.2</td>\n",
       "      <td>0.09457</td>\n",
       "      <td>0.3399</td>\n",
       "      <td>0.3218</td>\n",
       "      <td>0.08750</td>\n",
       "      <td>0.2305</td>\n",
       "      <td>0.09952</td>\n",
       "    </tr>\n",
       "    <tr>\n",
       "      <th>1</th>\n",
       "      <td>19.59</td>\n",
       "      <td>25.00</td>\n",
       "      <td>127.70</td>\n",
       "      <td>1191.0</td>\n",
       "      <td>0.10320</td>\n",
       "      <td>0.09871</td>\n",
       "      <td>0.16550</td>\n",
       "      <td>0.09063</td>\n",
       "      <td>0.1663</td>\n",
       "      <td>0.05391</td>\n",
       "      <td>...</td>\n",
       "      <td>21.44</td>\n",
       "      <td>30.96</td>\n",
       "      <td>139.80</td>\n",
       "      <td>1421.0</td>\n",
       "      <td>0.15280</td>\n",
       "      <td>0.1845</td>\n",
       "      <td>0.3977</td>\n",
       "      <td>0.14660</td>\n",
       "      <td>0.2293</td>\n",
       "      <td>0.06091</td>\n",
       "    </tr>\n",
       "    <tr>\n",
       "      <th>2</th>\n",
       "      <td>12.00</td>\n",
       "      <td>28.23</td>\n",
       "      <td>76.77</td>\n",
       "      <td>442.5</td>\n",
       "      <td>0.08437</td>\n",
       "      <td>0.06450</td>\n",
       "      <td>0.04055</td>\n",
       "      <td>0.01945</td>\n",
       "      <td>0.1615</td>\n",
       "      <td>0.06104</td>\n",
       "      <td>...</td>\n",
       "      <td>13.09</td>\n",
       "      <td>37.88</td>\n",
       "      <td>85.07</td>\n",
       "      <td>523.7</td>\n",
       "      <td>0.12080</td>\n",
       "      <td>0.1856</td>\n",
       "      <td>0.1811</td>\n",
       "      <td>0.07116</td>\n",
       "      <td>0.2447</td>\n",
       "      <td>0.08194</td>\n",
       "    </tr>\n",
       "    <tr>\n",
       "      <th>3</th>\n",
       "      <td>14.53</td>\n",
       "      <td>13.98</td>\n",
       "      <td>93.86</td>\n",
       "      <td>644.2</td>\n",
       "      <td>0.10990</td>\n",
       "      <td>0.09242</td>\n",
       "      <td>0.06895</td>\n",
       "      <td>0.06495</td>\n",
       "      <td>0.1650</td>\n",
       "      <td>0.06121</td>\n",
       "      <td>...</td>\n",
       "      <td>15.80</td>\n",
       "      <td>16.93</td>\n",
       "      <td>103.10</td>\n",
       "      <td>749.9</td>\n",
       "      <td>0.13470</td>\n",
       "      <td>0.1478</td>\n",
       "      <td>0.1373</td>\n",
       "      <td>0.10690</td>\n",
       "      <td>0.2606</td>\n",
       "      <td>0.07810</td>\n",
       "    </tr>\n",
       "    <tr>\n",
       "      <th>4</th>\n",
       "      <td>12.62</td>\n",
       "      <td>17.15</td>\n",
       "      <td>80.62</td>\n",
       "      <td>492.9</td>\n",
       "      <td>0.08583</td>\n",
       "      <td>0.05430</td>\n",
       "      <td>0.02966</td>\n",
       "      <td>0.02272</td>\n",
       "      <td>0.1799</td>\n",
       "      <td>0.05826</td>\n",
       "      <td>...</td>\n",
       "      <td>14.34</td>\n",
       "      <td>22.15</td>\n",
       "      <td>91.62</td>\n",
       "      <td>633.5</td>\n",
       "      <td>0.12250</td>\n",
       "      <td>0.1517</td>\n",
       "      <td>0.1887</td>\n",
       "      <td>0.09851</td>\n",
       "      <td>0.3270</td>\n",
       "      <td>0.07330</td>\n",
       "    </tr>\n",
       "  </tbody>\n",
       "</table>\n",
       "<p>5 rows × 30 columns</p>\n",
       "</div>"
      ],
      "text/plain": [
       "   mean radius  mean texture  mean perimeter  mean area  mean smoothness  \\\n",
       "0        11.87         21.54           76.83      432.0          0.06613   \n",
       "1        19.59         25.00          127.70     1191.0          0.10320   \n",
       "2        12.00         28.23           76.77      442.5          0.08437   \n",
       "3        14.53         13.98           93.86      644.2          0.10990   \n",
       "4        12.62         17.15           80.62      492.9          0.08583   \n",
       "\n",
       "   mean compactness  mean concavity  mean concave points  mean symmetry  \\\n",
       "0           0.10640         0.08777              0.02386         0.1349   \n",
       "1           0.09871         0.16550              0.09063         0.1663   \n",
       "2           0.06450         0.04055              0.01945         0.1615   \n",
       "3           0.09242         0.06895              0.06495         0.1650   \n",
       "4           0.05430         0.02966              0.02272         0.1799   \n",
       "\n",
       "   mean fractal dimension  ...  worst radius  worst texture  worst perimeter  \\\n",
       "0                 0.06612  ...         12.79          28.18            83.51   \n",
       "1                 0.05391  ...         21.44          30.96           139.80   \n",
       "2                 0.06104  ...         13.09          37.88            85.07   \n",
       "3                 0.06121  ...         15.80          16.93           103.10   \n",
       "4                 0.05826  ...         14.34          22.15            91.62   \n",
       "\n",
       "   worst area  worst smoothness  worst compactness  worst concavity  \\\n",
       "0       507.2           0.09457             0.3399           0.3218   \n",
       "1      1421.0           0.15280             0.1845           0.3977   \n",
       "2       523.7           0.12080             0.1856           0.1811   \n",
       "3       749.9           0.13470             0.1478           0.1373   \n",
       "4       633.5           0.12250             0.1517           0.1887   \n",
       "\n",
       "   worst concave points  worst symmetry  worst fractal dimension  \n",
       "0               0.08750          0.2305                  0.09952  \n",
       "1               0.14660          0.2293                  0.06091  \n",
       "2               0.07116          0.2447                  0.08194  \n",
       "3               0.10690          0.2606                  0.07810  \n",
       "4               0.09851          0.3270                  0.07330  \n",
       "\n",
       "[5 rows x 30 columns]"
      ]
     },
     "execution_count": 3,
     "metadata": {},
     "output_type": "execute_result"
    }
   ],
   "source": [
    "#**A COMPLETER**\n",
    "df = pd.read_csv('../../Data/cancer119.csv')\n",
    "df.head()"
   ]
  },
  {
   "cell_type": "markdown",
   "id": "76bcdb9a-5c5d-4702-91f5-ea1b84a679f0",
   "metadata": {},
   "source": [
    "## Connexion au serveur MLFlow\n",
    "\n",
    "Connectez-vous au seveur de la même façon que dans l'exercice précédent."
   ]
  },
  {
   "cell_type": "code",
   "execution_count": 4,
   "id": "54b3c8e4-0f74-4562-a69c-94a0bd397781",
   "metadata": {},
   "outputs": [
    {
     "name": "stdout",
     "output_type": "stream",
     "text": [
      "Tracking Server URI: 'http://127.0.0.1:5000'\n"
     ]
    }
   ],
   "source": [
    "#**A COMPLETER**\n",
    "mlflow.set_tracking_uri(\"http://127.0.0.1:5000\") \n",
    "print(f\"Tracking Server URI: '{mlflow.get_tracking_uri()}'\")"
   ]
  },
  {
   "cell_type": "markdown",
   "id": "600ebd3d-f4db-4548-9ba3-37e4608fd0c0",
   "metadata": {},
   "source": [
    "## Prédiction à partir d'un modèle enregistré dans le registry model"
   ]
  },
  {
   "cell_type": "markdown",
   "id": "35d466a5-3015-4824-92cb-f4f99b9c8773",
   "metadata": {},
   "source": [
    "À partir du modèle de votre choix enregistré dans le registry model, affectez son identifiant de run à la variable logged_model : runs:/<run_id>/<registry_model> pour de prédire sur les nouveaux individus."
   ]
  },
  {
   "cell_type": "code",
   "execution_count": 5,
   "id": "b909c6b5-84ca-4f48-8a8c-d69b67c07b58",
   "metadata": {},
   "outputs": [],
   "source": [
    "#**A COMPLETER**\n",
    "run_id = 'a318923cae6d47d68144e358c075147a'\n",
    "registry_model = 'Cancer_Model'\n",
    "\n",
    "logged_model = f\"runs:/{run_id}/{registry_model}\""
   ]
  },
  {
   "cell_type": "markdown",
   "id": "44087c71-0819-4dd9-962b-64f52f5727dc",
   "metadata": {},
   "source": [
    "Récupérez le modèle à partir du run (sklearn.load_model) pour prédire sur les nouvelles données.\n",
    "\n",
    "Enfin afficher les prédictions."
   ]
  },
  {
   "cell_type": "code",
   "execution_count": 6,
   "id": "532570a2-2955-4696-84a7-d3af6d4a66f5",
   "metadata": {},
   "outputs": [
    {
     "data": {
      "application/vnd.jupyter.widget-view+json": {
       "model_id": "9bc46a48484349b7abf32f1a1a2a0f84",
       "version_major": 2,
       "version_minor": 0
      },
      "text/plain": [
       "Downloading artifacts:   0%|          | 0/6 [00:00<?, ?it/s]"
      ]
     },
     "metadata": {},
     "output_type": "display_data"
    },
    {
     "data": {
      "text/html": [
       "<div>\n",
       "<style scoped>\n",
       "    .dataframe tbody tr th:only-of-type {\n",
       "        vertical-align: middle;\n",
       "    }\n",
       "\n",
       "    .dataframe tbody tr th {\n",
       "        vertical-align: top;\n",
       "    }\n",
       "\n",
       "    .dataframe thead th {\n",
       "        text-align: right;\n",
       "    }\n",
       "</style>\n",
       "<table border=\"1\" class=\"dataframe\">\n",
       "  <thead>\n",
       "    <tr style=\"text-align: right;\">\n",
       "      <th></th>\n",
       "      <th>0</th>\n",
       "    </tr>\n",
       "  </thead>\n",
       "  <tbody>\n",
       "    <tr>\n",
       "      <th>0</th>\n",
       "      <td>benign</td>\n",
       "    </tr>\n",
       "    <tr>\n",
       "      <th>1</th>\n",
       "      <td>malignant</td>\n",
       "    </tr>\n",
       "    <tr>\n",
       "      <th>2</th>\n",
       "      <td>benign</td>\n",
       "    </tr>\n",
       "    <tr>\n",
       "      <th>3</th>\n",
       "      <td>benign</td>\n",
       "    </tr>\n",
       "    <tr>\n",
       "      <th>4</th>\n",
       "      <td>benign</td>\n",
       "    </tr>\n",
       "  </tbody>\n",
       "</table>\n",
       "</div>"
      ],
      "text/plain": [
       "           0\n",
       "0     benign\n",
       "1  malignant\n",
       "2     benign\n",
       "3     benign\n",
       "4     benign"
      ]
     },
     "execution_count": 6,
     "metadata": {},
     "output_type": "execute_result"
    }
   ],
   "source": [
    "#**A COMPLETER**\n",
    "loaded_model = mlflow.sklearn.load_model(logged_model)\n",
    "\n",
    "predictions = loaded_model.predict(df)\n",
    "pd.DataFrame(predictions).head()"
   ]
  },
  {
   "cell_type": "markdown",
   "id": "367b6aa3-7db5-49ec-8347-064846d0eca7",
   "metadata": {},
   "source": [
    "## Prédiction à partir du model.pkl"
   ]
  },
  {
   "cell_type": "markdown",
   "id": "ced69ff0-4b38-4140-ad68-e904154c4713",
   "metadata": {},
   "source": [
    "Récupérer le fichier model.pkl et chargez-le dans un objet (with open et pickle.load : https://docs.python.org/3/library/pickle.html).\n",
    "\n",
    "Afficher les prédictions."
   ]
  },
  {
   "cell_type": "code",
   "execution_count": 10,
   "id": "2b5aa19e-7b6d-4265-9a56-0c9441b049cc",
   "metadata": {},
   "outputs": [
    {
     "data": {
      "text/html": [
       "<div>\n",
       "<style scoped>\n",
       "    .dataframe tbody tr th:only-of-type {\n",
       "        vertical-align: middle;\n",
       "    }\n",
       "\n",
       "    .dataframe tbody tr th {\n",
       "        vertical-align: top;\n",
       "    }\n",
       "\n",
       "    .dataframe thead th {\n",
       "        text-align: right;\n",
       "    }\n",
       "</style>\n",
       "<table border=\"1\" class=\"dataframe\">\n",
       "  <thead>\n",
       "    <tr style=\"text-align: right;\">\n",
       "      <th></th>\n",
       "      <th>0</th>\n",
       "    </tr>\n",
       "  </thead>\n",
       "  <tbody>\n",
       "    <tr>\n",
       "      <th>0</th>\n",
       "      <td>benign</td>\n",
       "    </tr>\n",
       "    <tr>\n",
       "      <th>1</th>\n",
       "      <td>malignant</td>\n",
       "    </tr>\n",
       "    <tr>\n",
       "      <th>2</th>\n",
       "      <td>benign</td>\n",
       "    </tr>\n",
       "    <tr>\n",
       "      <th>3</th>\n",
       "      <td>benign</td>\n",
       "    </tr>\n",
       "    <tr>\n",
       "      <th>4</th>\n",
       "      <td>benign</td>\n",
       "    </tr>\n",
       "  </tbody>\n",
       "</table>\n",
       "</div>"
      ],
      "text/plain": [
       "           0\n",
       "0     benign\n",
       "1  malignant\n",
       "2     benign\n",
       "3     benign\n",
       "4     benign"
      ]
     },
     "execution_count": 10,
     "metadata": {},
     "output_type": "execute_result"
    }
   ],
   "source": [
    "#**A COMPLETER**\n",
    "with open('model.pkl', 'rb') as fichier:\n",
    "    mon_objet = pickle.load(fichier)\n",
    "\n",
    "predictions = mon_objet.predict(df)\n",
    "pd.DataFrame(predictions).head()"
   ]
  }
 ],
 "metadata": {
  "kernelspec": {
   "display_name": "Python 3 (ipykernel)",
   "language": "python",
   "name": "python3"
  },
  "language_info": {
   "codemirror_mode": {
    "name": "ipython",
    "version": 3
   },
   "file_extension": ".py",
   "mimetype": "text/x-python",
   "name": "python",
   "nbconvert_exporter": "python",
   "pygments_lexer": "ipython3",
   "version": "3.11.5"
  }
 },
 "nbformat": 4,
 "nbformat_minor": 5
}
